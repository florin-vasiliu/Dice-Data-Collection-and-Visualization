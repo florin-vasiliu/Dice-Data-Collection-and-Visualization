{
 "cells": [
  {
   "cell_type": "code",
   "execution_count": null,
   "metadata": {},
   "outputs": [],
   "source": [
    "import pymongo\n",
    "from splinter import Browser\n",
    "from bs4 import BeautifulSoup as bs\n",
    "import requests\n",
    "import time"
   ]
  },
  {
   "cell_type": "code",
   "execution_count": null,
   "metadata": {},
   "outputs": [],
   "source": [
    "!which chromedriver"
   ]
  },
  {
   "cell_type": "code",
   "execution_count": null,
   "metadata": {},
   "outputs": [],
   "source": [
    "executable_path = {'executable_path': 'chromedriver.exe'}\n",
    "# Headless False for displaying the browser\n",
    "browser = Browser('chrome', **executable_path, headless=False)"
   ]
  },
  {
   "cell_type": "code",
   "execution_count": null,
   "metadata": {},
   "outputs": [],
   "source": [
    "def scrape_job_cards_dice(browser):\n",
    "    # get html page\n",
    "    html = browser.html\n",
    "\n",
    "    #parse request to BeautifulSoup object\n",
    "    soup = bs(html, 'html.parser')\n",
    "\n",
    "    #get page job cards\n",
    "    return soup.find_all('div', class_=\"card\")"
   ]
  },
  {
   "cell_type": "code",
   "execution_count": null,
   "metadata": {},
   "outputs": [],
   "source": [
    "def scrape_job_dice(job_card):\n",
    "    #initiate fields\n",
    "    job_title = \"\"\n",
    "    job_company = \"\"\n",
    "    job_salary = \"\"\n",
    "    job_location = \"\"\n",
    "    job_date = \"\"\n",
    "    job_description = \"\"\n",
    "\n",
    "    job_title = job_card.find_all(class_=\"card-title-link\")[0].text\n",
    "    job_company = job_card.find_all(class_=\"card-company\")[0].a.text\n",
    "\n",
    "    # get location\n",
    "    job_location = job_card.find_all(id=\"searchResultLocation\")[0].text\n",
    "\n",
    "    # get full job descr html\n",
    "    job_descr_link = job_card.find_all(class_=\"card-title-link\")[0].get('href')\n",
    "    job_descr_html = requests.get(job_descr_link)\n",
    "    soup = bs(job_descr_html.text, 'html.parser') \n",
    "\n",
    "    #check if salary is present or not\n",
    "    try: \n",
    "        job_salary = soup.find_all(class_=\"mL20\")[0].text\n",
    "    except: \n",
    "        job_salary = ''\n",
    "        \n",
    "    #check if job type is present or not\n",
    "    try: \n",
    "        job_type = soup.find_all(\"input\",{\"id\":\"empTypeSSDL\"})[0][\"value\"]\n",
    "    except: \n",
    "        job_type = ''\n",
    "\n",
    "    # job description\n",
    "    job_description = soup.find_all(id=\"jobdescSec\")[0].get_text()\n",
    "\n",
    "    # job date\n",
    "    job_date = job_card.find_all(class_=\"posted-date\")[0].text\n",
    "\n",
    "    #print all found details\n",
    "\n",
    "    print(f\"\"\"\n",
    "        job_title: {job_title},\n",
    "        job_company: {job_company},\n",
    "        job_salary: {job_salary},\n",
    "        job_location: {job_location},\n",
    "        job_date: {job_date},\n",
    "        job_type: {job_type},\n",
    "        job_description: {job_description[:30]}\"\"\")\n",
    "\n",
    "    return [job_title, job_company, job_salary, job_location, job_date, job_type, job_description]"
   ]
  },
  {
   "cell_type": "code",
   "execution_count": null,
   "metadata": {},
   "outputs": [],
   "source": [
    "# Store in db\n",
    "class db_connection:\n",
    "    def __init__(self):\n",
    "        #connect to database\n",
    "        connection_string='mongodb://localhost:27017'\n",
    "        client = pymongo.MongoClient(connection_string)\n",
    "        #define database for storage\n",
    "        db = client.dice_db\n",
    "        #drop all stored data\n",
    "        db.jobs.drop()\n",
    "        db.jobs\n",
    "        #define collection to store data\n",
    "        self.jobs_collection = db.jobs\n",
    "\n",
    "    def store_job(self, title, company, salary, location, date, job_type, description):\n",
    "        self.jobs_collection.insert_one({ \\\n",
    "        \"job_title\": title, \\\n",
    "        \"job_company\": company, \\\n",
    "        \"job_salary\": salary, \\\n",
    "        \"job_location\": location, \\\n",
    "        \"job_date\": date, \\\n",
    "        \"job_type\": job_type, \\\n",
    "        \"job_description\": description \\\n",
    "        })"
   ]
  },
  {
   "cell_type": "code",
   "execution_count": null,
   "metadata": {},
   "outputs": [],
   "source": [
    "url = \"https://www.dice.com/jobs?location=USA&latitude=37.09024&longitude=-95.712891&countryCode=US&locationPrecision=Country&radius=30&radiusUnit=mi&page=1&pageSize=20&filters.employmentType=FULLTIME&language=en\"\n",
    "browser.visit(url)  "
   ]
  },
  {
   "cell_type": "code",
   "execution_count": null,
   "metadata": {},
   "outputs": [],
   "source": [
    "#Initiate database session\n",
    "session = db_connection()"
   ]
  },
  {
   "cell_type": "code",
   "execution_count": null,
   "metadata": {},
   "outputs": [],
   "source": [
    "# Scrape and store in DB\n",
    "cards = scrape_job_cards_dice(browser)\n",
    "for card in cards:\n",
    "    session.store_job(*scrape_job_dice(card))"
   ]
  },
  {
   "cell_type": "code",
   "execution_count": null,
   "metadata": {},
   "outputs": [],
   "source": [
    "browser.click_link_by_partial_text('»')"
   ]
  }
 ],
 "metadata": {
  "kernelspec": {
   "display_name": "Python 3",
   "language": "python",
   "name": "python3"
  },
  "language_info": {
   "codemirror_mode": {
    "name": "ipython",
    "version": 3
   },
   "file_extension": ".py",
   "mimetype": "text/x-python",
   "name": "python",
   "nbconvert_exporter": "python",
   "pygments_lexer": "ipython3",
   "version": "3.7.4"
  }
 },
 "nbformat": 4,
 "nbformat_minor": 2
}
