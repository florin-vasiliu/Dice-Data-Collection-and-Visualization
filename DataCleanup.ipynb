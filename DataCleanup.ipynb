{
 "cells": [
  {
   "cell_type": "code",
   "execution_count": 1,
   "metadata": {},
   "outputs": [],
   "source": [
    "import pandas as pd\n",
    "import pymongo\n",
    "from IPython.display import clear_output\n",
    "from geopy.geocoders import Nominatim\n",
    "import json\n",
    "import re\n",
    "import string\n",
    "import concurrent.futures\n",
    "import requests"
   ]
  },
  {
   "cell_type": "code",
   "execution_count": 2,
   "metadata": {},
   "outputs": [],
   "source": [
    "# Connect to database\n",
    "connection_string='mongodb://localhost:27017'\n",
    "client = pymongo.MongoClient(connection_string)\n",
    "# Define database for storage\n",
    "db = client.dice_db"
   ]
  },
  {
   "cell_type": "code",
   "execution_count": 3,
   "metadata": {},
   "outputs": [],
   "source": [
    "# # Drop Duplicates from database\n",
    "# import json\n",
    "# def drop_db_duplicates(db_table):\n",
    "#     # Retrieve data for analysis\n",
    "#     actual_collection = db_table.find()\n",
    "#     #get mongoDB data into a dataframe\n",
    "#     actual_collection_df = pd.DataFrame(list(actual_collection))\n",
    "#     #exclude unique index and drop duplicates\n",
    "#     actual_collection_df = actual_collection_df.loc[:, actual_collection_df.columns != '_id']\n",
    "#     actual_collection_df = actual_collection_df.drop_duplicates()\n",
    "#     #prepare records to load into database\n",
    "#     records = json.loads(actual_collection_df.T.to_json()).values()\n",
    "#     #insert into database unique values\n",
    "#     db_table.drop()\n",
    "#     db_table\n",
    "#     db_table.insert(records)"
   ]
  },
  {
   "cell_type": "code",
   "execution_count": 4,
   "metadata": {},
   "outputs": [],
   "source": [
    "# drop_db_duplicates(db.jobs_test)"
   ]
  },
  {
   "cell_type": "code",
   "execution_count": 5,
   "metadata": {},
   "outputs": [
    {
     "data": {
      "text/html": [
       "<div>\n",
       "<style scoped>\n",
       "    .dataframe tbody tr th:only-of-type {\n",
       "        vertical-align: middle;\n",
       "    }\n",
       "\n",
       "    .dataframe tbody tr th {\n",
       "        vertical-align: top;\n",
       "    }\n",
       "\n",
       "    .dataframe thead th {\n",
       "        text-align: right;\n",
       "    }\n",
       "</style>\n",
       "<table border=\"1\" class=\"dataframe\">\n",
       "  <thead>\n",
       "    <tr style=\"text-align: right;\">\n",
       "      <th></th>\n",
       "      <th>_id</th>\n",
       "      <th>job_title</th>\n",
       "      <th>job_company</th>\n",
       "      <th>job_salary</th>\n",
       "      <th>job_location</th>\n",
       "      <th>job_date</th>\n",
       "      <th>job_description</th>\n",
       "      <th>location_latitude</th>\n",
       "      <th>location_longitude</th>\n",
       "      <th>job_type</th>\n",
       "    </tr>\n",
       "  </thead>\n",
       "  <tbody>\n",
       "    <tr>\n",
       "      <td>0</td>\n",
       "      <td>5fd6a28bca0e57fbbf2284e3</td>\n",
       "      <td>Business Analytics Director</td>\n",
       "      <td>University of Kentucky</td>\n",
       "      <td>Depends on Experience</td>\n",
       "      <td>Lexington, KY, USA</td>\n",
       "      <td>2020-12-12</td>\n",
       "      <td>\\nThe University of Kentucky’s Institutional R...</td>\n",
       "      <td>NaN</td>\n",
       "      <td>NaN</td>\n",
       "      <td>NaN</td>\n",
       "    </tr>\n",
       "    <tr>\n",
       "      <td>1</td>\n",
       "      <td>5fd6a28bca0e57fbbf2284e4</td>\n",
       "      <td>Associate Software Engineer III</td>\n",
       "      <td>Penske</td>\n",
       "      <td>Depends on Experience</td>\n",
       "      <td>Reading, PA, USA</td>\n",
       "      <td>2020-12-12</td>\n",
       "      <td>\\nSummary Statement:Working with a diverse tea...</td>\n",
       "      <td>NaN</td>\n",
       "      <td>NaN</td>\n",
       "      <td>NaN</td>\n",
       "    </tr>\n",
       "    <tr>\n",
       "      <td>2</td>\n",
       "      <td>5fd6a28bca0e57fbbf2284e5</td>\n",
       "      <td>Developer</td>\n",
       "      <td>Healh Care Logistics</td>\n",
       "      <td>$70,000 - $85,000</td>\n",
       "      <td>Grove City, OH, USA</td>\n",
       "      <td>2020-12-11</td>\n",
       "      <td>\\nTitle: Developer                            ...</td>\n",
       "      <td>NaN</td>\n",
       "      <td>NaN</td>\n",
       "      <td>NaN</td>\n",
       "    </tr>\n",
       "    <tr>\n",
       "      <td>3</td>\n",
       "      <td>5fd6a28bca0e57fbbf2284e6</td>\n",
       "      <td>ServiceNow Solution Architect</td>\n",
       "      <td>Saxon Global Inc.</td>\n",
       "      <td>$open</td>\n",
       "      <td>Charlotte, NC, USA</td>\n",
       "      <td>2020-12-13</td>\n",
       "      <td>\\nHi, Please go through the job description an...</td>\n",
       "      <td>NaN</td>\n",
       "      <td>NaN</td>\n",
       "      <td>NaN</td>\n",
       "    </tr>\n",
       "    <tr>\n",
       "      <td>4</td>\n",
       "      <td>5fd6a28bca0e57fbbf2284e7</td>\n",
       "      <td>Full Time HRIS Developer</td>\n",
       "      <td>Saxon Global Inc.</td>\n",
       "      <td>Depends On Experience</td>\n",
       "      <td>Nashville, TN, USA</td>\n",
       "      <td>2020-12-13</td>\n",
       "      <td>\\nLocation: Nashville TN, Memphis TN , Ridgela...</td>\n",
       "      <td>NaN</td>\n",
       "      <td>NaN</td>\n",
       "      <td>NaN</td>\n",
       "    </tr>\n",
       "    <tr>\n",
       "      <td>...</td>\n",
       "      <td>...</td>\n",
       "      <td>...</td>\n",
       "      <td>...</td>\n",
       "      <td>...</td>\n",
       "      <td>...</td>\n",
       "      <td>...</td>\n",
       "      <td>...</td>\n",
       "      <td>...</td>\n",
       "      <td>...</td>\n",
       "      <td>...</td>\n",
       "    </tr>\n",
       "    <tr>\n",
       "      <td>27421</td>\n",
       "      <td>5fd81d49eb016bc81b4f95fe</td>\n",
       "      <td>Junior Mobile Developer - C#</td>\n",
       "      <td>eXcell, a division of CompuCom Systems, Inc.</td>\n",
       "      <td>BASED ON EXPERIENCE</td>\n",
       "      <td>Kent, WA, USA</td>\n",
       "      <td>2020-12-14</td>\n",
       "      <td>\\nOur client is seeking a full-time, passionat...</td>\n",
       "      <td>47.3827</td>\n",
       "      <td>-122.227</td>\n",
       "      <td>Full Time</td>\n",
       "    </tr>\n",
       "    <tr>\n",
       "      <td>27422</td>\n",
       "      <td>5fd81d4beb016bc81b4f95ff</td>\n",
       "      <td>Senior Salesforce Business Analyst</td>\n",
       "      <td>Synapse Business Systems</td>\n",
       "      <td>BASED ON EXPERIENCE</td>\n",
       "      <td>Arlington, VA, USA</td>\n",
       "      <td>2020-12-14</td>\n",
       "      <td>\\nSenior Salesforce Business Analyst - Need Se...</td>\n",
       "      <td>32.7019</td>\n",
       "      <td>-97.1056</td>\n",
       "      <td>Contract W2, Contract Independent, C2H W2, C2H...</td>\n",
       "    </tr>\n",
       "    <tr>\n",
       "      <td>27423</td>\n",
       "      <td>5fd81d4deb016bc81b4f9600</td>\n",
       "      <td>Salesforce Business Analyst</td>\n",
       "      <td>Synapse Business Systems</td>\n",
       "      <td>BASED ON EXPERIENCE</td>\n",
       "      <td>Washington, DC, USA</td>\n",
       "      <td>2020-12-14</td>\n",
       "      <td>\\nSENIOR BUSINESS ANALYST with Active Secret C...</td>\n",
       "      <td>38.895</td>\n",
       "      <td>-77.0366</td>\n",
       "      <td>Contract W2, Contract Independent, C2H W2, C2H...</td>\n",
       "    </tr>\n",
       "    <tr>\n",
       "      <td>27424</td>\n",
       "      <td>5fd81d50eb016bc81b4f9601</td>\n",
       "      <td>Need Data Lead for  Washington DC</td>\n",
       "      <td>Synapse Business Systems</td>\n",
       "      <td>BASED ON EXPERIENCE</td>\n",
       "      <td>Washington, DC, USA</td>\n",
       "      <td>2020-12-14</td>\n",
       "      <td>\\n Job Position : Data LeadLocation : Washingt...</td>\n",
       "      <td>38.895</td>\n",
       "      <td>-77.0366</td>\n",
       "      <td>Contract W2, Contract Independent, C2H W2, C2H...</td>\n",
       "    </tr>\n",
       "    <tr>\n",
       "      <td>27425</td>\n",
       "      <td>5fd81d52eb016bc81b4f9602</td>\n",
       "      <td>Devops Architect</td>\n",
       "      <td>Synapse Business Systems</td>\n",
       "      <td>BASED ON EXPERIENCE</td>\n",
       "      <td>Chicago, IL, USA</td>\n",
       "      <td>2020-12-14</td>\n",
       "      <td>\\n\\t\\t\\tDEVOPS ArchitectRemote RoleRequired Qu...</td>\n",
       "      <td>41.8756</td>\n",
       "      <td>-87.6244</td>\n",
       "      <td>Contract W2, Contract Independent, C2H W2, C2H...</td>\n",
       "    </tr>\n",
       "  </tbody>\n",
       "</table>\n",
       "<p>27426 rows × 10 columns</p>\n",
       "</div>"
      ],
      "text/plain": [
       "                            _id                             job_title  \\\n",
       "0      5fd6a28bca0e57fbbf2284e3          Business Analytics Director    \n",
       "1      5fd6a28bca0e57fbbf2284e4      Associate Software Engineer III    \n",
       "2      5fd6a28bca0e57fbbf2284e5                            Developer    \n",
       "3      5fd6a28bca0e57fbbf2284e6        ServiceNow Solution Architect    \n",
       "4      5fd6a28bca0e57fbbf2284e7             Full Time HRIS Developer    \n",
       "...                         ...                                   ...   \n",
       "27421  5fd81d49eb016bc81b4f95fe         Junior Mobile Developer - C#    \n",
       "27422  5fd81d4beb016bc81b4f95ff   Senior Salesforce Business Analyst    \n",
       "27423  5fd81d4deb016bc81b4f9600          Salesforce Business Analyst    \n",
       "27424  5fd81d50eb016bc81b4f9601    Need Data Lead for  Washington DC    \n",
       "27425  5fd81d52eb016bc81b4f9602                     Devops Architect    \n",
       "\n",
       "                                          job_company             job_salary  \\\n",
       "0                             University of Kentucky   Depends on Experience   \n",
       "1                                             Penske   Depends on Experience   \n",
       "2                               Healh Care Logistics       $70,000 - $85,000   \n",
       "3                                  Saxon Global Inc.                   $open   \n",
       "4                                  Saxon Global Inc.   Depends On Experience   \n",
       "...                                               ...                    ...   \n",
       "27421   eXcell, a division of CompuCom Systems, Inc.     BASED ON EXPERIENCE   \n",
       "27422                       Synapse Business Systems     BASED ON EXPERIENCE   \n",
       "27423                       Synapse Business Systems     BASED ON EXPERIENCE   \n",
       "27424                       Synapse Business Systems     BASED ON EXPERIENCE   \n",
       "27425                       Synapse Business Systems     BASED ON EXPERIENCE   \n",
       "\n",
       "               job_location    job_date  \\\n",
       "0        Lexington, KY, USA  2020-12-12   \n",
       "1          Reading, PA, USA  2020-12-12   \n",
       "2       Grove City, OH, USA  2020-12-11   \n",
       "3        Charlotte, NC, USA  2020-12-13   \n",
       "4        Nashville, TN, USA  2020-12-13   \n",
       "...                     ...         ...   \n",
       "27421         Kent, WA, USA  2020-12-14   \n",
       "27422    Arlington, VA, USA  2020-12-14   \n",
       "27423   Washington, DC, USA  2020-12-14   \n",
       "27424   Washington, DC, USA  2020-12-14   \n",
       "27425      Chicago, IL, USA  2020-12-14   \n",
       "\n",
       "                                         job_description location_latitude  \\\n",
       "0      \\nThe University of Kentucky’s Institutional R...               NaN   \n",
       "1      \\nSummary Statement:Working with a diverse tea...               NaN   \n",
       "2      \\nTitle: Developer                            ...               NaN   \n",
       "3      \\nHi, Please go through the job description an...               NaN   \n",
       "4      \\nLocation: Nashville TN, Memphis TN , Ridgela...               NaN   \n",
       "...                                                  ...               ...   \n",
       "27421  \\nOur client is seeking a full-time, passionat...           47.3827   \n",
       "27422  \\nSenior Salesforce Business Analyst - Need Se...           32.7019   \n",
       "27423  \\nSENIOR BUSINESS ANALYST with Active Secret C...            38.895   \n",
       "27424  \\n Job Position : Data LeadLocation : Washingt...            38.895   \n",
       "27425  \\n\\t\\t\\tDEVOPS ArchitectRemote RoleRequired Qu...           41.8756   \n",
       "\n",
       "      location_longitude                                           job_type  \n",
       "0                    NaN                                                NaN  \n",
       "1                    NaN                                                NaN  \n",
       "2                    NaN                                                NaN  \n",
       "3                    NaN                                                NaN  \n",
       "4                    NaN                                                NaN  \n",
       "...                  ...                                                ...  \n",
       "27421           -122.227                                          Full Time  \n",
       "27422           -97.1056  Contract W2, Contract Independent, C2H W2, C2H...  \n",
       "27423           -77.0366  Contract W2, Contract Independent, C2H W2, C2H...  \n",
       "27424           -77.0366  Contract W2, Contract Independent, C2H W2, C2H...  \n",
       "27425           -87.6244  Contract W2, Contract Independent, C2H W2, C2H...  \n",
       "\n",
       "[27426 rows x 10 columns]"
      ]
     },
     "execution_count": 5,
     "metadata": {},
     "output_type": "execute_result"
    }
   ],
   "source": [
    "jobs_collection = db.jobs.find()\n",
    "jobs_df = pd.DataFrame(list(jobs_collection))\n",
    "jobs_df"
   ]
  },
  {
   "cell_type": "code",
   "execution_count": 6,
   "metadata": {},
   "outputs": [
    {
     "data": {
      "text/html": [
       "<div>\n",
       "<style scoped>\n",
       "    .dataframe tbody tr th:only-of-type {\n",
       "        vertical-align: middle;\n",
       "    }\n",
       "\n",
       "    .dataframe tbody tr th {\n",
       "        vertical-align: top;\n",
       "    }\n",
       "\n",
       "    .dataframe thead th {\n",
       "        text-align: right;\n",
       "    }\n",
       "</style>\n",
       "<table border=\"1\" class=\"dataframe\">\n",
       "  <thead>\n",
       "    <tr style=\"text-align: right;\">\n",
       "      <th></th>\n",
       "      <th>job_title</th>\n",
       "      <th>job_company</th>\n",
       "      <th>job_salary</th>\n",
       "      <th>job_location</th>\n",
       "      <th>job_date</th>\n",
       "      <th>job_description</th>\n",
       "      <th>location_latitude</th>\n",
       "      <th>location_longitude</th>\n",
       "      <th>job_type</th>\n",
       "    </tr>\n",
       "  </thead>\n",
       "  <tbody>\n",
       "    <tr>\n",
       "      <td>count</td>\n",
       "      <td>27426</td>\n",
       "      <td>27426</td>\n",
       "      <td>27426</td>\n",
       "      <td>27426</td>\n",
       "      <td>27426</td>\n",
       "      <td>27426</td>\n",
       "      <td>7025.000000</td>\n",
       "      <td>7025.000000</td>\n",
       "      <td>7025</td>\n",
       "    </tr>\n",
       "    <tr>\n",
       "      <td>unique</td>\n",
       "      <td>12334</td>\n",
       "      <td>530</td>\n",
       "      <td>1098</td>\n",
       "      <td>2326</td>\n",
       "      <td>47</td>\n",
       "      <td>17347</td>\n",
       "      <td>848.000000</td>\n",
       "      <td>848.000000</td>\n",
       "      <td>21</td>\n",
       "    </tr>\n",
       "    <tr>\n",
       "      <td>top</td>\n",
       "      <td>REMOTE Full Stack LAMP Developer - UI/UX Design</td>\n",
       "      <td>Apex Systems</td>\n",
       "      <td></td>\n",
       "      <td>New York, NY, USA</td>\n",
       "      <td>2020-12-13</td>\n",
       "      <td>\\nCX Researcher / Journey Mapper for Global Se...</td>\n",
       "      <td>38.894154</td>\n",
       "      <td>-77.431151</td>\n",
       "      <td>Full Time</td>\n",
       "    </tr>\n",
       "    <tr>\n",
       "      <td>freq</td>\n",
       "      <td>291</td>\n",
       "      <td>2567</td>\n",
       "      <td>19545</td>\n",
       "      <td>869</td>\n",
       "      <td>15375</td>\n",
       "      <td>29</td>\n",
       "      <td>322.000000</td>\n",
       "      <td>322.000000</td>\n",
       "      <td>6775</td>\n",
       "    </tr>\n",
       "  </tbody>\n",
       "</table>\n",
       "</div>"
      ],
      "text/plain": [
       "                                                job_title     job_company  \\\n",
       "count                                               27426           27426   \n",
       "unique                                              12334             530   \n",
       "top      REMOTE Full Stack LAMP Developer - UI/UX Design    Apex Systems    \n",
       "freq                                                  291            2567   \n",
       "\n",
       "       job_salary        job_location    job_date  \\\n",
       "count       27426               27426       27426   \n",
       "unique       1098                2326          47   \n",
       "top                 New York, NY, USA  2020-12-13   \n",
       "freq        19545                 869       15375   \n",
       "\n",
       "                                          job_description  location_latitude  \\\n",
       "count                                               27426        7025.000000   \n",
       "unique                                              17347         848.000000   \n",
       "top     \\nCX Researcher / Journey Mapper for Global Se...          38.894154   \n",
       "freq                                                   29         322.000000   \n",
       "\n",
       "        location_longitude   job_type  \n",
       "count          7025.000000       7025  \n",
       "unique          848.000000         21  \n",
       "top             -77.431151  Full Time  \n",
       "freq            322.000000       6775  "
      ]
     },
     "execution_count": 6,
     "metadata": {},
     "output_type": "execute_result"
    }
   ],
   "source": [
    "jobs_df.loc[:, jobs_df.columns != '_id'].drop_duplicates().describe()"
   ]
  },
  {
   "cell_type": "code",
   "execution_count": 7,
   "metadata": {},
   "outputs": [
    {
     "data": {
      "text/plain": [
       "array(['2020-12-12', '2020-12-11', '2020-12-13', '2020-12-10',\n",
       "       '36 minutes ago', '37 minutes ago', '39 minutes ago',\n",
       "       '41 minutes ago', '42 minutes ago', '23 minutes ago',\n",
       "       '24 minutes ago', '30 minutes ago', '31 minutes ago',\n",
       "       '32 minutes ago', '35 minutes ago', '38 minutes ago',\n",
       "       '40 minutes ago', '45 minutes ago', '49 minutes ago',\n",
       "       '50 minutes ago', '51 minutes ago', '58 minutes ago',\n",
       "       '47 minutes ago', '48 minutes ago', '1 hour ago', '2 hours ago',\n",
       "       '33 minutes ago', '2020-12-09', '2020-12-08', '2020-12-05',\n",
       "       '2020-12-04', '2020-12-03', '2020-12-01', '2020-11-21',\n",
       "       '2020-11-20', '2020-11-19', '2020-11-18', '2020-11-17',\n",
       "       '2020-11-14', '2020-11-05', '2020-11-04', '2020-10-30',\n",
       "       '2020-10-24', '2020-10-23', '2020-10-16', 'None', '2020-12-14'],\n",
       "      dtype=object)"
      ]
     },
     "execution_count": 7,
     "metadata": {},
     "output_type": "execute_result"
    }
   ],
   "source": [
    "jobs_df[\"job_date\"].unique()"
   ]
  },
  {
   "cell_type": "code",
   "execution_count": 8,
   "metadata": {},
   "outputs": [],
   "source": [
    "# Apply a first round of text cleaning techniques\n",
    "re.DOTALL\n",
    "def clean_text_round1(text):\n",
    "    '''Make text lowercase, remove text in square brackets, remove punctuation and remove words containing numbers.'''\n",
    "    text = text.lower()\n",
    "    text = re.sub('[%s]' % re.escape(string.punctuation), ' ', text)\n",
    "    text = re.sub('\\w*\\d\\w*', ' ', text)\n",
    "\n",
    "    '''Get rid of some additional punctuation and non-sensical text that was missed the first time around.'''\n",
    "    text = re.sub('[‘’“”…]', ' ', text)\n",
    "    text = re.sub('\\n', ' ', text)\n",
    "    return text\n",
    "\n",
    "round1 = lambda x: clean_text_round1(x)"
   ]
  },
  {
   "cell_type": "code",
   "execution_count": 9,
   "metadata": {},
   "outputs": [],
   "source": [
    "# Apply the data cleaning\n",
    "jobs_clean_df = jobs_df\n",
    "jobs_clean_df = pd.DataFrame(jobs_clean_df[\"job_description\"].apply(round1))"
   ]
  },
  {
   "cell_type": "code",
   "execution_count": 10,
   "metadata": {},
   "outputs": [
    {
     "data": {
      "text/plain": [
       "'\\nSummary Statement:Working with a diverse team, you will participate in all aspects of the software development lifecycle. You will get an opportunity to design functions and modules and be responsible for delivering the next generation of innovative applications to our customers\\xa0What You Will Be Doing:As an Associate Software Engineer III, you will be part of a team that develops our next generation of applications while enhancing and supporting our existing applications. You will be involved in reviewing, interpreting & developing systems in accordance with user requirements & troubleshooting issues as they occur. Working with the business and other software engineers/leads, you will develop an understanding of the requirements and translate them into technical design to develop and implement the solution. You will also collaborate with engineers and architects to ensure optimization, offering your input into the requirements and potential alternative courses of action.\\xa0Penske Responsibilities:• Act as the primary contact and lead support associate for multiple application modules/ processes, resolving customer issues in a timely manner. \\xa0 \\xa0 \\xa0 \\xa0 \\xa0 \\xa0 \\xa0 \\xa0 \\xa0 \\xa0 \\xa0• Participate in all aspects of the Software Development lifecycle through supporting existing software development efforts and developing new software modules.• Develop, maintain, test, analyze performance, troubleshoot / fix applications and applicable code. \\xa0\\xa0• Delegate tasks and participate in reviewing code from junior onshore & offshore developers.• Produce deliverables with clean, well-documented and easily maintainable code that adheres to defined coding standards and best practices• Participate in designing backend database schemas, using concepts such as Database Normalization and write complex SQL statements.• Interact with business analysts/product owners to understand requirements, translate it to technical design & develop the related components/modules. \\xa0 \\xa0 \\xa0 \\xa0 \\xa0 \\xa0• Write unit / UI tests to help identify defects.• Implement software for applications and related technology, with minimum oversight• Analyze project specifications, software requirements specifications, and software prototypes and build test plans and test cases based on the analysis\\xa0\\xa0Qualifications\\xa0Qualifications:• Bachelor’s Degree in Computer Science/Computer Engineering or equivalent years of software development experience• 2-4 years of experience in appropriate programming languages such as Java/RPG• Full stack development experience in technologies such as React, Angular, jQuery, HTML, JavaScript, CSS, Spring framework, Spring-MVC, myBatis, RESTful API’s.• Understanding of the full software development lifecycle.\\xa0• Understanding of project management concepts.\\xa0• Excellent communication and interpersonal skills.• Experience of appropriate design frameworks and patterns. \\xa0 \\xa0 \\xa0 \\xa0 \\xa0 \\xa0 \\xa0 \\xa0 \\xa0 \\xa0 \\xa0 \\xa0 \\xa0 \\xa0 \\xa0\\xa0• Experience in relational database design and writing complex SQL \\xa0 \\xa0 \\xa0 \\xa0 \\xa0 \\xa0 \\xa0 \\xa0 \\xa0 \\xa0 \\xa0 \\xa0\\xa0• Ability to work independently and in a team environment• Experience with Agile Methodology Preferred• A team player mindset with an ability to thrive and effectively communicate in a fast-paced, constantly evolving environment• Regular, predictable, full attendance is an essential function of the job.• Willingness to travel as necessary, work the required schedule, work at the specific location required, complete Penske employment application, submit to a background investigation (to include past employment, education, and criminal history) and drug screening are required.\\xa0\\xa0Physical Requirements:-The physical and mental demands described here are representative of those that must be met by an associate to successfully perform the essential functions of this job.\\xa0 Reasonable accommodations may be made to enable individuals with disabilities to perform the essential functions.-The associate will be required to: read; communicate verbally and/or in written form; remember and analyze certain information; and remember and understand certain instructions or guidelines.-While performing the duties of this job, the associate may be required to stand, walk, and sit.\\xa0 The associate is frequently required to use hands to touch, handle, and feel, and to reach with hands and arms.\\xa0 The associate must be able to occasionally lift and/or move up to 25lbs/12kg.-Specific vision abilities required by this job include close vision, distance vision, peripheral vision, depth perception and the ability to adjust focus.\\xa0Penske is an Equal Opportunity Employer.\\xa0About Penske Truck LeasingPenske Truck Leasing Co., L.P., headquartered in Reading, Pennsylvania, is a partnership of Penske Corporation, Penske Automotive Group and Mitsui & Co., Ltd. A leading global transportation services provider, Penske operates a premier fleet of vehicles and serves its customers from locations in North America, South America, Europe, Australia, and Asia. Penske’s product lines include full-service truck leasing, contract maintenance, commercial and consumer truck rentals, used truck sales, transportation and warehousing management and supply chain management solutions. Visit www.GoPenske.com to learn more.\\xa0\\xa0Work Locations:\\xa0\\xa02675 Morgantown Rd\\xa0\\xa0\\xa0\\xa0\\xa0Reading, PA\\xa019607\\xa0Primary Location:\\xa0\\xa0United States-Pennsylvania-Reading\\xa0Job:\\xa0\\xa0Information Technology\\xa0Penske (Oracle) Job Name:\\xa0\\xa0PTL.Associate Software Engineer III\\n'"
      ]
     },
     "execution_count": 10,
     "metadata": {},
     "output_type": "execute_result"
    }
   ],
   "source": [
    "# See description before transformation\n",
    "jobs_df.loc[1, \"job_description\"]"
   ]
  },
  {
   "cell_type": "code",
   "execution_count": 11,
   "metadata": {},
   "outputs": [
    {
     "data": {
      "text/plain": [
       "' summary statement working with a diverse team  you will participate in all aspects of the software development lifecycle  you will get an opportunity to design functions and modules and be responsible for delivering the next generation of innovative applications to our customers\\xa0what you will be doing as an associate software engineer iii  you will be part of a team that develops our next generation of applications while enhancing and supporting our existing applications  you will be involved in reviewing  interpreting   developing systems in accordance with user requirements   troubleshooting issues as they occur  working with the business and other software engineers leads  you will develop an understanding of the requirements and translate them into technical design to develop and implement the solution  you will also collaborate with engineers and architects to ensure optimization  offering your input into the requirements and potential alternative courses of action \\xa0penske responsibilities • act as the primary contact and lead support associate for multiple application modules  processes  resolving customer issues in a timely manner  \\xa0 \\xa0 \\xa0 \\xa0 \\xa0 \\xa0 \\xa0 \\xa0 \\xa0 \\xa0 \\xa0• participate in all aspects of the software development lifecycle through supporting existing software development efforts and developing new software modules • develop  maintain  test  analyze performance  troubleshoot   fix applications and applicable code  \\xa0\\xa0• delegate tasks and participate in reviewing code from junior onshore   offshore developers • produce deliverables with clean  well documented and easily maintainable code that adheres to defined coding standards and best practices• participate in designing backend database schemas  using concepts such as database normalization and write complex sql statements • interact with business analysts product owners to understand requirements  translate it to technical design   develop the related components modules  \\xa0 \\xa0 \\xa0 \\xa0 \\xa0 \\xa0• write unit   ui tests to help identify defects • implement software for applications and related technology  with minimum oversight• analyze project specifications  software requirements specifications  and software prototypes and build test plans and test cases based on the analysis\\xa0\\xa0qualifications\\xa0qualifications • bachelor s degree in computer science computer engineering or equivalent years of software development experience•     years of experience in appropriate programming languages such as java rpg• full stack development experience in technologies such as react  angular  jquery  html  javascript  css  spring framework  spring mvc  mybatis  restful api s • understanding of the full software development lifecycle \\xa0• understanding of project management concepts \\xa0• excellent communication and interpersonal skills • experience of appropriate design frameworks and patterns  \\xa0 \\xa0 \\xa0 \\xa0 \\xa0 \\xa0 \\xa0 \\xa0 \\xa0 \\xa0 \\xa0 \\xa0 \\xa0 \\xa0 \\xa0\\xa0• experience in relational database design and writing complex sql \\xa0 \\xa0 \\xa0 \\xa0 \\xa0 \\xa0 \\xa0 \\xa0 \\xa0 \\xa0 \\xa0 \\xa0\\xa0• ability to work independently and in a team environment• experience with agile methodology preferred• a team player mindset with an ability to thrive and effectively communicate in a fast paced  constantly evolving environment• regular  predictable  full attendance is an essential function of the job • willingness to travel as necessary  work the required schedule  work at the specific location required  complete penske employment application  submit to a background investigation  to include past employment  education  and criminal history  and drug screening are required \\xa0\\xa0physical requirements  the physical and mental demands described here are representative of those that must be met by an associate to successfully perform the essential functions of this job \\xa0 reasonable accommodations may be made to enable individuals with disabilities to perform the essential functions  the associate will be required to  read  communicate verbally and or in written form  remember and analyze certain information  and remember and understand certain instructions or guidelines  while performing the duties of this job  the associate may be required to stand  walk  and sit \\xa0 the associate is frequently required to use hands to touch  handle  and feel  and to reach with hands and arms \\xa0 the associate must be able to occasionally lift and or move up to      specific vision abilities required by this job include close vision  distance vision  peripheral vision  depth perception and the ability to adjust focus \\xa0penske is an equal opportunity employer \\xa0about penske truck leasingpenske truck leasing co   l p   headquartered in reading  pennsylvania  is a partnership of penske corporation  penske automotive group and mitsui   co   ltd  a leading global transportation services provider  penske operates a premier fleet of vehicles and serves its customers from locations in north america  south america  europe  australia  and asia  penske s product lines include full service truck leasing  contract maintenance  commercial and consumer truck rentals  used truck sales  transportation and warehousing management and supply chain management solutions  visit www gopenske com to learn more \\xa0\\xa0work locations \\xa0\\xa0  morgantown rd\\xa0\\xa0\\xa0\\xa0\\xa0reading  pa\\xa0 \\xa0primary location \\xa0\\xa0united states pennsylvania reading\\xa0job \\xa0\\xa0information technology\\xa0penske  oracle  job name \\xa0\\xa0ptl associate software engineer iii '"
      ]
     },
     "execution_count": 11,
     "metadata": {},
     "output_type": "execute_result"
    }
   ],
   "source": [
    "# See description after transformation\n",
    "jobs_clean_df.loc[1, \"job_description\"]"
   ]
  },
  {
   "cell_type": "code",
   "execution_count": 12,
   "metadata": {},
   "outputs": [],
   "source": [
    "key_words = [\"data+analyst\", \"data+scientist\", \"excel\", \"python\", \"pandas\", \"matplotlib\", \"sql\", \"postgresql\", \"bootstrap\", \"nosql\", \\\n",
    "    \"mongodb\", \"mongo\", \"javascript\", \"tableau\", \"machine+learning\", \"ml\", \"scikit+learn\", \"scikit\", \"keras\", \"tensorflow\", \"pyspark\", \"natural+language+processing\", \\\n",
    "        \"nlp\", \"big+data\", \"etl\", \"extract+transform+load\", \"amazon+web+services\", \"aws\", \"rds\"]"
   ]
  },
  {
   "cell_type": "code",
   "execution_count": 13,
   "metadata": {},
   "outputs": [
    {
     "data": {
      "text/plain": [
       "['data analyst',\n",
       " 'data scientist',\n",
       " 'excel',\n",
       " 'python',\n",
       " 'pandas',\n",
       " 'matplotlib',\n",
       " 'sql',\n",
       " 'postgresql',\n",
       " 'bootstrap',\n",
       " 'nosql',\n",
       " 'mongodb',\n",
       " 'mongo',\n",
       " 'javascript',\n",
       " 'tableau',\n",
       " 'machine learning',\n",
       " 'ml',\n",
       " 'scikit learn',\n",
       " 'scikit',\n",
       " 'keras',\n",
       " 'tensorflow',\n",
       " 'pyspark',\n",
       " 'natural language processing',\n",
       " 'nlp',\n",
       " 'big data',\n",
       " 'etl',\n",
       " 'extract transform load',\n",
       " 'amazon web services',\n",
       " 'aws',\n",
       " 'rds']"
      ]
     },
     "execution_count": 13,
     "metadata": {},
     "output_type": "execute_result"
    }
   ],
   "source": [
    "#clean-up characters in keywords\n",
    "key_words = map(round1, key_words)\n",
    "key_words = [key for key in key_words]\n",
    "key_words"
   ]
  },
  {
   "cell_type": "code",
   "execution_count": 14,
   "metadata": {},
   "outputs": [
    {
     "data": {
      "text/plain": [
       "' role  data analyst location  winston   salem nc long term contract job description           years of experience in it and banking field with    experience in sql server oracle or other database query language   understand and update business reporting and processes which will reduce duplication of data  reduce data entry into multiple systems and facilitate quicker data driven business decisions and document the details for technology team to understand   work with end users  business analysts and developers to streamline data flowing in to the applications    export and manipulate data from business systems to be used in reports and analysis   setup graphs and presentations to visually represent information using excel and or tableau   experience with creating  documenting  and maintaining processes   develop presentations and produce clear data visualizations for multiple levels of staff  management  and variety of stakeholders   implement methods to improve data reliability and quality   creative in solving problems  especially thinking outside the box to come up with solutions   an ideal resource loves working with data   strong analytical skills with high attention to detail and accuracy   excellent verbal  written  and interpersonal communication skills       thanks   regards srihari smart it frame   an e  verify employer   davidson avenue suite    somerset nj   desk  ext     gmail      www smartitframe com   about smart it frame smart it frame consulting handles the staffing and management of part or all of the recruitment process for our customers wishing to outsource their staffing requirements  from job profiling  providing new staff  technology  to on boarding a new hire we support our customers in their future business needs  about client our client is a leading provider of information technology  consulting  and business process outsourcing services  dedicated to helping the world s leading companies build stronger businesses  client combines a passion for client satisfaction  technology innovation  deep industry and business process expertise and a global  collaborative workforce that embodies the future of work  with over   delivery centers worldwide  our client is a member of the nasdaq    the s p    the forbes global   and the fortune   and is ranked among the top performing and fastest growing companies in the world '"
      ]
     },
     "execution_count": 14,
     "metadata": {},
     "output_type": "execute_result"
    }
   ],
   "source": [
    "jobs_clean_df.loc[55,\"job_description\"]"
   ]
  },
  {
   "cell_type": "code",
   "execution_count": 34,
   "metadata": {},
   "outputs": [],
   "source": [
    "# count keywords in description\n",
    "from collections import Counter\n",
    "def find_words(key_words, string):\n",
    "    string = string.split()\n",
    "    separator = \" \"\n",
    "    words_found = {}\n",
    "    for word in key_words:\n",
    "        n_gram = len(word.split())\n",
    "        res = Counter(separator.join(string[idx : idx + n_gram]) for idx in range(len(string) - n_gram + 1))\n",
    "        print(word, res[word])\n",
    "        if res[word]>0:\n",
    "            words_found[word] = res[word]\n",
    "    # add KeyWordsMatch[%]\n",
    "    words_found[\"KeyWordsMatch[%]\"] = len(words_found)/len(key_words)\n",
    "    return words_found"
   ]
  },
  {
   "cell_type": "code",
   "execution_count": 35,
   "metadata": {},
   "outputs": [
    {
     "name": "stdout",
     "output_type": "stream",
     "text": [
      "data analyst 1\n",
      "data scientist 0\n",
      "excel 1\n",
      "python 0\n",
      "pandas 0\n",
      "matplotlib 0\n",
      "sql 1\n",
      "postgresql 0\n",
      "bootstrap 0\n",
      "nosql 0\n",
      "mongodb 0\n",
      "mongo 0\n",
      "javascript 0\n",
      "tableau 1\n",
      "machine learning 0\n",
      "ml 0\n",
      "scikit learn 0\n",
      "scikit 0\n",
      "keras 0\n",
      "tensorflow 0\n",
      "pyspark 0\n",
      "natural language processing 0\n",
      "nlp 0\n",
      "big data 0\n",
      "etl 0\n",
      "extract transform load 0\n",
      "amazon web services 0\n",
      "aws 0\n",
      "rds 0\n",
      "{'data analyst': 1, 'excel': 1, 'sql': 1, 'tableau': 1, 'KeyWordsMatch[%]': 0.13793103448275862}\n",
      "time elapsed 0.003956317901611328\n"
     ]
    }
   ],
   "source": [
    "import time\n",
    "time_start = time.time()\n",
    "print(find_words(key_words, jobs_clean_df.loc[55,\"job_description\"]))\n",
    "print(f\"time elapsed {time.time()-time_start}\")"
   ]
  },
  {
   "cell_type": "code",
   "execution_count": 43,
   "metadata": {},
   "outputs": [
    {
     "name": "stdout",
     "output_type": "stream",
     "text": [
      "data analyst 1\n",
      "data scientist 0\n",
      "excel 1\n",
      "python 0\n",
      "pandas 0\n",
      "matplotlib 0\n",
      "sql 1\n",
      "postgresql 0\n",
      "bootstrap 0\n",
      "nosql 0\n",
      "mongodb 0\n",
      "mongo 0\n",
      "javascript 0\n",
      "tableau 1\n",
      "machine learning 0\n",
      "ml 0\n",
      "scikit learn 0\n",
      "scikit 0\n",
      "keras 0\n",
      "tensorflow 0\n",
      "pyspark 0\n",
      "natural language processing 0\n",
      "nlp 0\n",
      "big data 0\n",
      "etl 0\n",
      "extract transform load 0\n",
      "amazon web services 0\n",
      "aws 0\n",
      "rds 0\n"
     ]
    },
    {
     "data": {
      "text/plain": [
       "{'x': 1,\n",
       " 'y': 2,\n",
       " 'data analyst': 1,\n",
       " 'excel': 1,\n",
       " 'sql': 1,\n",
       " 'tableau': 1,\n",
       " 'KeyWordsMatch[%]': 0.13793103448275862}"
      ]
     },
     "execution_count": 43,
     "metadata": {},
     "output_type": "execute_result"
    }
   ],
   "source": [
    "x = {\"x\":1,\"y\":2, **find_words(key_words, jobs_clean_df.loc[55,\"job_description\"])}\n",
    "#{**x,**find_words(key_words, jobs_clean_df.loc[55,\"job_description\"])}\n",
    "x"
   ]
  },
  {
   "cell_type": "code",
   "execution_count": 36,
   "metadata": {},
   "outputs": [
    {
     "name": "stdout",
     "output_type": "stream",
     "text": [
      "data analyst 1\n",
      "data scientist 0\n",
      "excel 1\n",
      "python 0\n",
      "pandas 0\n",
      "matplotlib 0\n",
      "sql 1\n",
      "postgresql 0\n",
      "bootstrap 0\n",
      "nosql 0\n",
      "mongodb 0\n",
      "mongo 0\n",
      "javascript 0\n",
      "tableau 1\n",
      "machine learning 0\n",
      "ml 0\n",
      "scikit learn 0\n",
      "scikit 0\n",
      "keras 0\n",
      "tensorflow 0\n",
      "pyspark 0\n",
      "natural language processing 0\n",
      "nlp 0\n",
      "big data 0\n",
      "etl 0\n",
      "extract transform load 0\n",
      "amazon web services 0\n",
      "aws 0\n",
      "rds 0\n"
     ]
    },
    {
     "data": {
      "text/plain": [
       "<pymongo.results.InsertOneResult at 0x1c48c01a808>"
      ]
     },
     "execution_count": 36,
     "metadata": {},
     "output_type": "execute_result"
    }
   ],
   "source": [
    "db.jobs_test\n",
    "db.jobs_test.insert_one(find_words(key_words, jobs_clean_df.loc[55,\"job_description\"]))"
   ]
  },
  {
   "cell_type": "code",
   "execution_count": null,
   "metadata": {},
   "outputs": [],
   "source": [
    "# jobs_df = pd.read_csv(\"ProcessedData.csv\")\n",
    "# jobs_df = jobs_df.drop(\"Unnamed: 0\", axis=1)"
   ]
  },
  {
   "cell_type": "code",
   "execution_count": null,
   "metadata": {},
   "outputs": [],
   "source": [
    "# Function to split the salary text\n",
    "def split_salary(string):\n",
    "    \n",
    "    try:\n",
    "        amount = re.findall('(\\$\\d+,\\d+|\\$\\d+)', string)\n",
    "        salary_min = amount[0]\n",
    "        salary_min = re.findall(\"\\d+,\\d+|\\d+\",salary_min)[0]\n",
    "        try:\n",
    "            salary_max = amount[1]#.group(0)\n",
    "            salary_max = re.findall(\"\\d+,\\d+|\\d+\",salary_max)[0]\n",
    "        except:\n",
    "            salary_max = \"\"\n",
    "        um = re.findall('hour|year', string)  \n",
    "        um = \"$/\"+um[0]\n",
    "        return (salary_min, salary_max, um)\n",
    "    except:\n",
    "        return (\"\",\"\",\"\")"
   ]
  },
  {
   "cell_type": "code",
   "execution_count": null,
   "metadata": {},
   "outputs": [],
   "source": [
    "# Split salary text into minimum salary, maximum salary and unit of measurement\n",
    "salary_list = jobs_df[\"job_salary\"].astype(str).values.tolist()\n",
    "salary_list = map(split_salary, salary_list)\n",
    "salary_list = [x for x in salary_list]"
   ]
  },
  {
   "cell_type": "code",
   "execution_count": null,
   "metadata": {},
   "outputs": [],
   "source": [
    "# Record splitted salaries into clean dataframe\n",
    "salary_list_transposed = zip(*salary_list)\n",
    "salary_list_transposed = [i for i in salary_list_transposed]\n",
    "jobs_df[\"salary_min\"] = salary_list_transposed[0]\n",
    "jobs_df[\"salary_max\"] = salary_list_transposed[1]\n",
    "jobs_df[\"UM\"] = salary_list_transposed[2]\n",
    "jobs_df"
   ]
  },
  {
   "cell_type": "code",
   "execution_count": null,
   "metadata": {},
   "outputs": [],
   "source": [
    "# # Insert clean data into new MongoDB table\n",
    "# #db.jobs_clean.drop()\n",
    "# clean_records = json.loads(jobs_df.T.to_json()).values()\n",
    "# db.jobs_clean.insert_many(clean_records)"
   ]
  }
 ],
 "metadata": {
  "kernelspec": {
   "display_name": "Python 3.7.4 64-bit ('base': conda)",
   "language": "python",
   "name": "python37464bitbasecondaebc7325974e641c78342335c88d5ccce"
  },
  "language_info": {
   "codemirror_mode": {
    "name": "ipython",
    "version": 3
   },
   "file_extension": ".py",
   "mimetype": "text/x-python",
   "name": "python",
   "nbconvert_exporter": "python",
   "pygments_lexer": "ipython3",
   "version": "3.7.4"
  }
 },
 "nbformat": 4,
 "nbformat_minor": 2
}
